{
 "cells": [
  {
   "cell_type": "code",
   "execution_count": 1,
   "id": "89475c1b",
   "metadata": {},
   "outputs": [],
   "source": [
    "import numpy as np\n",
    "import pandas as pd\n",
    "import matplotlib.pyplot as plt\n",
    "%matplotlib inline\n",
    "import seaborn as sns\n",
    "import statsmodels.api as sm\n",
    "from scipy.stats import boxcox\n",
    "\n",
    "pd.options.display.max_rows = 100"
   ]
  },
  {
   "cell_type": "code",
   "execution_count": 2,
   "id": "ac5c6057",
   "metadata": {},
   "outputs": [],
   "source": [
    "def lower_case_column_names(x):\n",
    "    x.columns=[i.lower() for i in x.columns]\n",
    "    return x"
   ]
  },
  {
   "cell_type": "code",
   "execution_count": 3,
   "id": "a1b4ef58",
   "metadata": {},
   "outputs": [],
   "source": [
    "file1 = pd.read_csv(\"Data/file1.csv\")\n",
    "file1 = lower_case_column_names(file1)\n",
    "file1.rename(columns={\"st\":\"state\", \"customer lifetime value\":\"customer_ltv\"}, inplace = True)\n",
    "# file1.head()"
   ]
  },
  {
   "cell_type": "code",
   "execution_count": 4,
   "id": "56a94fed",
   "metadata": {},
   "outputs": [],
   "source": [
    "file2 = pd.read_csv(\"Data/file2.csv\")\n",
    "file2 = lower_case_column_names(file2)\n",
    "file2.rename(columns={\"st\":\"state\", \"customer lifetime value\":\"customer_ltv\"}, inplace=True)\n",
    "file2 = file2[[\"customer\", \"state\", \"gender\", \"education\", \"customer_ltv\", \"income\", \"monthly premium auto\", \"number of open complaints\", \"policy type\", \"vehicle class\", \"total claim amount\"]]\n",
    "# file2.head()"
   ]
  },
  {
   "cell_type": "code",
   "execution_count": 5,
   "id": "f149e80f",
   "metadata": {},
   "outputs": [],
   "source": [
    "file3 = pd.read_csv(\"Data/file3.csv\")\n",
    "file3 = lower_case_column_names(file3)\n",
    "file3.rename(columns={\"customer lifetime value\":\"customer_ltv\"}, inplace=True)\n",
    "file3 = file3[[\"customer\", \"state\", \"gender\", \"education\", \"customer_ltv\", \"income\", \"monthly premium auto\", \"number of open complaints\", \"policy type\", \"vehicle class\", \"total claim amount\"]]\n",
    "# file3.head()"
   ]
  },
  {
   "cell_type": "code",
   "execution_count": 6,
   "id": "e096dff3",
   "metadata": {},
   "outputs": [],
   "source": [
    "def combining_files():\n",
    "    return pd.concat([file1,file2,file3], axis=0)"
   ]
  },
  {
   "cell_type": "code",
   "execution_count": 7,
   "id": "de44db41",
   "metadata": {},
   "outputs": [],
   "source": [
    "df = combining_files()\n",
    "df.drop([\"customer\"], axis=1, inplace=True)\n",
    "# df"
   ]
  },
  {
   "cell_type": "code",
   "execution_count": 8,
   "id": "13869490",
   "metadata": {},
   "outputs": [
    {
     "name": "stdout",
     "output_type": "stream",
     "text": [
      "state ->  ['Washington' 'Arizona' 'Nevada' 'California' 'Oregon' 'Cali' 'AZ' 'WA'\n",
      " nan]\n",
      "gender ->  [nan 'F' 'M' 'Femal' 'Male' 'female']\n",
      "education ->  ['Master' 'Bachelor' 'High School or Below' 'College' 'Bachelors' 'Doctor'\n",
      " nan]\n",
      "policy type ->  ['Personal Auto' 'Corporate Auto' 'Special Auto' nan]\n",
      "vehicle class ->  ['Four-Door Car' 'Two-Door Car' 'SUV' 'Luxury SUV' 'Sports Car'\n",
      " 'Luxury Car' nan]\n"
     ]
    }
   ],
   "source": [
    "print(\"state -> \", df[\"state\"].unique())\n",
    "print(\"gender -> \", df[\"gender\"].unique())\n",
    "print(\"education -> \", df[\"education\"].unique())\n",
    "print(\"policy type -> \", df[\"policy type\"].unique())\n",
    "print(\"vehicle class -> \", df[\"vehicle class\"].unique())"
   ]
  },
  {
   "cell_type": "code",
   "execution_count": 9,
   "id": "6ae115ec",
   "metadata": {},
   "outputs": [],
   "source": [
    "df['state'] = df['state'].replace(['AZ', 'WA', 'Cali'],['Arizona', 'Washington', 'California'])\n",
    "# df[\"state\"].value_counts()"
   ]
  },
  {
   "cell_type": "code",
   "execution_count": 16,
   "id": "2bd3f246",
   "metadata": {},
   "outputs": [
    {
     "data": {
      "text/plain": [
       "F    4607\n",
       "M    4408\n",
       "Name: gender, dtype: int64"
      ]
     },
     "execution_count": 16,
     "metadata": {},
     "output_type": "execute_result"
    }
   ],
   "source": [
    "df['gender'] = df['gender'].replace(['Femal', 'female'], 'F')\n",
    "df['gender'] = df['gender'].replace(['Male'], 'M')\n",
    "# df['gender'].value_counts()"
   ]
  },
  {
   "cell_type": "code",
   "execution_count": 14,
   "id": "7e0ad689",
   "metadata": {},
   "outputs": [
    {
     "name": "stdout",
     "output_type": "stream",
     "text": [
      "<class 'pandas.core.frame.DataFrame'>\n",
      "Int64Index: 12074 entries, 0 to 7069\n",
      "Data columns (total 10 columns):\n",
      " #   Column                     Non-Null Count  Dtype  \n",
      "---  ------                     --------------  -----  \n",
      " 0   state                      9137 non-null   object \n",
      " 1   gender                     9015 non-null   object \n",
      " 2   education                  9137 non-null   object \n",
      " 3   customer_ltv               9130 non-null   object \n",
      " 4   income                     9137 non-null   float64\n",
      " 5   monthly premium auto       9137 non-null   float64\n",
      " 6   number of open complaints  9137 non-null   object \n",
      " 7   policy type                9137 non-null   object \n",
      " 8   vehicle class              9137 non-null   object \n",
      " 9   total claim amount         9137 non-null   float64\n",
      "dtypes: float64(3), object(7)\n",
      "memory usage: 1.0+ MB\n"
     ]
    }
   ],
   "source": [
    "df.info()"
   ]
  },
  {
   "cell_type": "code",
   "execution_count": 15,
   "id": "953ab3b8",
   "metadata": {},
   "outputs": [
    {
     "data": {
      "text/html": [
       "<div>\n",
       "<style scoped>\n",
       "    .dataframe tbody tr th:only-of-type {\n",
       "        vertical-align: middle;\n",
       "    }\n",
       "\n",
       "    .dataframe tbody tr th {\n",
       "        vertical-align: top;\n",
       "    }\n",
       "\n",
       "    .dataframe thead th {\n",
       "        text-align: right;\n",
       "    }\n",
       "</style>\n",
       "<table border=\"1\" class=\"dataframe\">\n",
       "  <thead>\n",
       "    <tr style=\"text-align: right;\">\n",
       "      <th></th>\n",
       "      <th>state</th>\n",
       "      <th>gender</th>\n",
       "      <th>education</th>\n",
       "      <th>customer_ltv</th>\n",
       "      <th>income</th>\n",
       "      <th>monthly premium auto</th>\n",
       "      <th>number of open complaints</th>\n",
       "      <th>policy type</th>\n",
       "      <th>vehicle class</th>\n",
       "      <th>total claim amount</th>\n",
       "    </tr>\n",
       "  </thead>\n",
       "  <tbody>\n",
       "    <tr>\n",
       "      <th>0</th>\n",
       "      <td>Washington</td>\n",
       "      <td>NaN</td>\n",
       "      <td>Master</td>\n",
       "      <td>NaN</td>\n",
       "      <td>0.0</td>\n",
       "      <td>1000.0</td>\n",
       "      <td>1/0/00</td>\n",
       "      <td>Personal Auto</td>\n",
       "      <td>Four-Door Car</td>\n",
       "      <td>2.704934</td>\n",
       "    </tr>\n",
       "    <tr>\n",
       "      <th>1</th>\n",
       "      <td>Arizona</td>\n",
       "      <td>F</td>\n",
       "      <td>Bachelor</td>\n",
       "      <td>697953.59%</td>\n",
       "      <td>0.0</td>\n",
       "      <td>94.0</td>\n",
       "      <td>1/0/00</td>\n",
       "      <td>Personal Auto</td>\n",
       "      <td>Four-Door Car</td>\n",
       "      <td>1131.464935</td>\n",
       "    </tr>\n",
       "    <tr>\n",
       "      <th>2</th>\n",
       "      <td>Nevada</td>\n",
       "      <td>F</td>\n",
       "      <td>Bachelor</td>\n",
       "      <td>1288743.17%</td>\n",
       "      <td>48767.0</td>\n",
       "      <td>108.0</td>\n",
       "      <td>1/0/00</td>\n",
       "      <td>Personal Auto</td>\n",
       "      <td>Two-Door Car</td>\n",
       "      <td>566.472247</td>\n",
       "    </tr>\n",
       "    <tr>\n",
       "      <th>3</th>\n",
       "      <td>California</td>\n",
       "      <td>M</td>\n",
       "      <td>Bachelor</td>\n",
       "      <td>764586.18%</td>\n",
       "      <td>0.0</td>\n",
       "      <td>106.0</td>\n",
       "      <td>1/0/00</td>\n",
       "      <td>Corporate Auto</td>\n",
       "      <td>SUV</td>\n",
       "      <td>529.881344</td>\n",
       "    </tr>\n",
       "    <tr>\n",
       "      <th>4</th>\n",
       "      <td>Washington</td>\n",
       "      <td>M</td>\n",
       "      <td>High School or Below</td>\n",
       "      <td>536307.65%</td>\n",
       "      <td>36357.0</td>\n",
       "      <td>68.0</td>\n",
       "      <td>1/0/00</td>\n",
       "      <td>Personal Auto</td>\n",
       "      <td>Four-Door Car</td>\n",
       "      <td>17.269323</td>\n",
       "    </tr>\n",
       "  </tbody>\n",
       "</table>\n",
       "</div>"
      ],
      "text/plain": [
       "        state gender             education customer_ltv   income  \\\n",
       "0  Washington    NaN                Master          NaN      0.0   \n",
       "1     Arizona      F              Bachelor   697953.59%      0.0   \n",
       "2      Nevada      F              Bachelor  1288743.17%  48767.0   \n",
       "3  California      M              Bachelor   764586.18%      0.0   \n",
       "4  Washington      M  High School or Below   536307.65%  36357.0   \n",
       "\n",
       "   monthly premium auto number of open complaints     policy type  \\\n",
       "0                1000.0                    1/0/00   Personal Auto   \n",
       "1                  94.0                    1/0/00   Personal Auto   \n",
       "2                 108.0                    1/0/00   Personal Auto   \n",
       "3                 106.0                    1/0/00  Corporate Auto   \n",
       "4                  68.0                    1/0/00   Personal Auto   \n",
       "\n",
       "   vehicle class  total claim amount  \n",
       "0  Four-Door Car            2.704934  \n",
       "1  Four-Door Car         1131.464935  \n",
       "2   Two-Door Car          566.472247  \n",
       "3            SUV          529.881344  \n",
       "4  Four-Door Car           17.269323  "
      ]
     },
     "execution_count": 15,
     "metadata": {},
     "output_type": "execute_result"
    }
   ],
   "source": []
  },
  {
   "cell_type": "code",
   "execution_count": null,
   "id": "9ee41449",
   "metadata": {},
   "outputs": [],
   "source": []
  }
 ],
 "metadata": {
  "kernelspec": {
   "display_name": "Python 3 (ipykernel)",
   "language": "python",
   "name": "python3"
  },
  "language_info": {
   "codemirror_mode": {
    "name": "ipython",
    "version": 3
   },
   "file_extension": ".py",
   "mimetype": "text/x-python",
   "name": "python",
   "nbconvert_exporter": "python",
   "pygments_lexer": "ipython3",
   "version": "3.9.12"
  },
  "toc": {
   "base_numbering": 1,
   "nav_menu": {},
   "number_sections": true,
   "sideBar": true,
   "skip_h1_title": false,
   "title_cell": "Table of Contents",
   "title_sidebar": "Contents",
   "toc_cell": false,
   "toc_position": {},
   "toc_section_display": true,
   "toc_window_display": false
  }
 },
 "nbformat": 4,
 "nbformat_minor": 5
}
