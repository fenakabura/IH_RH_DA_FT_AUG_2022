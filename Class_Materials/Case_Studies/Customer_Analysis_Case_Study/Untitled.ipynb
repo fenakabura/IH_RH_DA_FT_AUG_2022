{
 "cells": [
  {
   "cell_type": "code",
   "execution_count": 15,
   "id": "2b050d25",
   "metadata": {},
   "outputs": [],
   "source": [
    "import numpy as np\n",
    "import pandas as pd\n",
    "import matplotlib.pyplot as plt\n",
    "%matplotlib inline\n",
    "import seaborn as sns\n",
    "import statsmodels.api as sm\n",
    "from scipy.stats import boxcox\n",
    "\n",
    "pd.options.display.max_rows = 100"
   ]
  },
  {
   "cell_type": "code",
   "execution_count": 16,
   "id": "4d7c54bd",
   "metadata": {},
   "outputs": [],
   "source": [
    "def lower_case_column_names(x):\n",
    "    x.columns=[i.lower() for i in x.columns]\n",
    "    return x"
   ]
  },
  {
   "cell_type": "code",
   "execution_count": 17,
   "id": "32404967",
   "metadata": {},
   "outputs": [],
   "source": [
    "file1 = pd.read_csv(\"Data/file1.csv\")\n",
    "file1 = lower_case_column_names(file1)\n",
    "file1.rename(columns={\"st\":\"state\", \"customer lifetime value\":\"customer_ltv\"}, inplace = True)\n",
    "# file1.head()"
   ]
  },
  {
   "cell_type": "code",
   "execution_count": 18,
   "id": "1ddab4ff",
   "metadata": {},
   "outputs": [],
   "source": [
    "file2 = pd.read_csv(\"Data/file2.csv\")\n",
    "file2 = lower_case_column_names(file2)\n",
    "file2.rename(columns={\"st\":\"state\", \"customer lifetime value\":\"customer_ltv\"}, inplace=True)\n",
    "file2 = file2[[\"customer\", \"state\", \"gender\", \"education\", \"customer_ltv\", \"income\", \"monthly premium auto\", \"number of open complaints\", \"policy type\", \"vehicle class\", \"total claim amount\"]]\n",
    "# file2.head()"
   ]
  },
  {
   "cell_type": "code",
   "execution_count": 19,
   "id": "145e139a",
   "metadata": {},
   "outputs": [],
   "source": [
    "file3 = pd.read_csv(\"Data/file3.csv\")\n",
    "file3 = lower_case_column_names(file3)\n",
    "file3.rename(columns={\"customer lifetime value\":\"customer_ltv\"}, inplace=True)\n",
    "file3 = file3[[\"customer\", \"state\", \"gender\", \"education\", \"customer_ltv\", \"income\", \"monthly premium auto\", \"number of open complaints\", \"policy type\", \"vehicle class\", \"total claim amount\"]]\n",
    "# file3.head()"
   ]
  },
  {
   "cell_type": "code",
   "execution_count": 20,
   "id": "3dde2bfd",
   "metadata": {},
   "outputs": [],
   "source": [
    "def combining_files():\n",
    "    return pd.concat([file1,file2,file3], axis=0)"
   ]
  },
  {
   "cell_type": "code",
   "execution_count": 21,
   "id": "1bcc3bfb",
   "metadata": {},
   "outputs": [],
   "source": [
    "df = combining_files()\n",
    "df.drop([\"customer\"], axis=1, inplace=True)\n",
    "# df"
   ]
  },
  {
   "cell_type": "code",
   "execution_count": 22,
   "id": "2a7edc73",
   "metadata": {},
   "outputs": [
    {
     "name": "stdout",
     "output_type": "stream",
     "text": [
      "state ->  ['Washington' 'Arizona' 'Nevada' 'California' 'Oregon' 'Cali' 'AZ' 'WA'\n",
      " nan]\n",
      "gender ->  [nan 'F' 'M' 'Femal' 'Male' 'female']\n",
      "education ->  ['Master' 'Bachelor' 'High School or Below' 'College' 'Bachelors' 'Doctor'\n",
      " nan]\n",
      "policy type ->  ['Personal Auto' 'Corporate Auto' 'Special Auto' nan]\n",
      "vehicle class ->  ['Four-Door Car' 'Two-Door Car' 'SUV' 'Luxury SUV' 'Sports Car'\n",
      " 'Luxury Car' nan]\n"
     ]
    }
   ],
   "source": [
    "print(\"state -> \", df[\"state\"].unique())\n",
    "print(\"gender -> \", df[\"gender\"].unique())\n",
    "print(\"education -> \", df[\"education\"].unique())\n",
    "print(\"policy type -> \", df[\"policy type\"].unique())\n",
    "print(\"vehicle class -> \", df[\"vehicle class\"].unique())"
   ]
  },
  {
   "cell_type": "code",
   "execution_count": 14,
   "id": "c8309e80",
   "metadata": {},
   "outputs": [
    {
     "data": {
      "text/plain": [
       "array(['Washington', 'Arizona', 'NV', 'CA', 'OR', 'California', nan],\n",
       "      dtype=object)"
      ]
     },
     "execution_count": 14,
     "metadata": {},
     "output_type": "execute_result"
    }
   ],
   "source": [
    "df['state'] = df['state'].replace(['AZ', 'WA', 'Cali'],['Arizona', 'Washington', 'California'])\n",
    "df[\"state\"].unique()"
   ]
  },
  {
   "cell_type": "code",
   "execution_count": null,
   "id": "974695ad",
   "metadata": {},
   "outputs": [],
   "source": []
  }
 ],
 "metadata": {
  "kernelspec": {
   "display_name": "Python 3 (ipykernel)",
   "language": "python",
   "name": "python3"
  },
  "language_info": {
   "codemirror_mode": {
    "name": "ipython",
    "version": 3
   },
   "file_extension": ".py",
   "mimetype": "text/x-python",
   "name": "python",
   "nbconvert_exporter": "python",
   "pygments_lexer": "ipython3",
   "version": "3.9.12"
  },
  "toc": {
   "base_numbering": 1,
   "nav_menu": {},
   "number_sections": true,
   "sideBar": true,
   "skip_h1_title": false,
   "title_cell": "Table of Contents",
   "title_sidebar": "Contents",
   "toc_cell": false,
   "toc_position": {},
   "toc_section_display": true,
   "toc_window_display": false
  }
 },
 "nbformat": 4,
 "nbformat_minor": 5
}
