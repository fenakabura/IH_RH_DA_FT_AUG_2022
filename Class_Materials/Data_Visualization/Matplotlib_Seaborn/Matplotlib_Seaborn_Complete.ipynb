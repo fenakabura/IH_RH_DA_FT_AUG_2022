{
 "cells": [
  {
   "cell_type": "markdown",
   "metadata": {
    "id": "nmeEMlYEmfCH",
    "pycharm": {
     "name": "#%% md\n"
    }
   },
   "source": [
    "# Matplotlib & Seaborn Codealong"
   ]
  },
  {
   "cell_type": "markdown",
   "metadata": {
    "id": "OMifDcD4mfCN",
    "pycharm": {
     "name": "#%% md\n"
    }
   },
   "source": [
    "Before getting started we import the necessary libraries we will use.\n",
    "- Pandas\n",
    "- Numpy\n",
    "- Matplotlib Pyplot\n",
    "- Seaborn"
   ]
  },
  {
   "cell_type": "code",
   "execution_count": 45,
   "metadata": {
    "executionInfo": {
     "elapsed": 445,
     "status": "ok",
     "timestamp": 1625127724410,
     "user": {
      "displayName": "Ignacio Soteras",
      "photoUrl": "",
      "userId": "02050793736257155229"
     },
     "user_tz": -120
    },
    "id": "90XAxBXRmfCO",
    "pycharm": {
     "name": "#%%\n"
    }
   },
   "outputs": [],
   "source": [
    "# import libraries to use (pandas, matplotlib.pyplot and seaborn)\n",
    "import pandas as pd\n",
    "import numpy as np\n",
    "import matplotlib.pyplot as plt\n",
    "import seaborn as sns\n",
    "%matplotlib inline"
   ]
  },
  {
   "cell_type": "markdown",
   "metadata": {
    "id": "UPgNiGdzmfCO",
    "pycharm": {
     "name": "#%% md\n"
    }
   },
   "source": [
    "First, as an aid, you can find cheatsheets for Matplotlib and Seaborn below:\n",
    "- [Matplotlib Cheat Sheet](https://s3.amazonaws.com/assets.datacamp.com/blog_assets/Python_Matplotlib_Cheat_Sheet.pdf)\n",
    "- [Seaborn Cheat Sheet](https://s3.amazonaws.com/assets.datacamp.com/blog_assets/Python_Seaborn_Cheat_Sheet.pdf)"
   ]
  },
  {
   "cell_type": "markdown",
   "metadata": {
    "id": "cpz_N4hemfCP",
    "pycharm": {
     "name": "#%% md\n"
    }
   },
   "source": [
    "We will do our first plots using Matplotlib. We will do only a single plot for now with several lines.\n",
    "We use NumPy to create an array of numbers from 0 to 10, that will represent the X axis."
   ]
  },
  {
   "cell_type": "code",
   "execution_count": 46,
   "metadata": {
    "executionInfo": {
     "elapsed": 614,
     "status": "ok",
     "timestamp": 1625127772103,
     "user": {
      "displayName": "Ignacio Soteras",
      "photoUrl": "",
      "userId": "02050793736257155229"
     },
     "user_tz": -120
    },
    "id": "ZlXJZiF5mfCP",
    "pycharm": {
     "name": "#%%\n"
    }
   },
   "outputs": [],
   "source": [
    "x = np.arange(0, 11) # range(10)"
   ]
  },
  {
   "cell_type": "code",
   "execution_count": 47,
   "metadata": {
    "colab": {
     "base_uri": "https://localhost:8080/"
    },
    "executionInfo": {
     "elapsed": 5,
     "status": "ok",
     "timestamp": 1625127774960,
     "user": {
      "displayName": "Ignacio Soteras",
      "photoUrl": "",
      "userId": "02050793736257155229"
     },
     "user_tz": -120
    },
    "id": "n9VJUsDSmfCP",
    "outputId": "ab2ca009-ae95-440a-bddb-73f9ad067194",
    "scrolled": true,
    "pycharm": {
     "name": "#%%\n"
    }
   },
   "outputs": [
    {
     "data": {
      "text/plain": "array([ 0,  1,  2,  3,  4,  5,  6,  7,  8,  9, 10])"
     },
     "execution_count": 47,
     "metadata": {},
     "output_type": "execute_result"
    }
   ],
   "source": [
    "x"
   ]
  },
  {
   "cell_type": "code",
   "execution_count": 48,
   "metadata": {
    "pycharm": {
     "name": "#%%\n"
    }
   },
   "outputs": [
    {
     "data": {
      "text/plain": "array([50, 52, 54, 56, 58, 60, 62, 64, 66, 68, 70])"
     },
     "execution_count": 48,
     "metadata": {},
     "output_type": "execute_result"
    }
   ],
   "source": [
    "y= 2*x+50\n",
    "y"
   ]
  },
  {
   "cell_type": "code",
   "execution_count": 49,
   "metadata": {
    "pycharm": {
     "name": "#%%\n"
    }
   },
   "outputs": [
    {
     "ename": "NameError",
     "evalue": "name 'y2' is not defined",
     "output_type": "error",
     "traceback": [
      "\u001B[0;31m---------------------------------------------------------------------------\u001B[0m",
      "\u001B[0;31mNameError\u001B[0m                                 Traceback (most recent call last)",
      "Input \u001B[0;32mIn [49]\u001B[0m, in \u001B[0;36m<cell line: 3>\u001B[0;34m()\u001B[0m\n\u001B[1;32m      1\u001B[0m fig\u001B[38;5;241m=\u001B[39mplt\u001B[38;5;241m.\u001B[39mfigure(figsize\u001B[38;5;241m=\u001B[39m(\u001B[38;5;241m10\u001B[39m,\u001B[38;5;241m8\u001B[39m))\n\u001B[1;32m      2\u001B[0m plt\u001B[38;5;241m.\u001B[39mplot(x,y,label\u001B[38;5;241m=\u001B[39m\u001B[38;5;124m\"\u001B[39m\u001B[38;5;124my=2*x\u001B[39m\u001B[38;5;124m\"\u001B[39m)\n\u001B[0;32m----> 3\u001B[0m plt\u001B[38;5;241m.\u001B[39mplot(x,\u001B[43my2\u001B[49m,label\u001B[38;5;241m=\u001B[39m\u001B[38;5;124m\"\u001B[39m\u001B[38;5;124my2=4*x\u001B[39m\u001B[38;5;124m\"\u001B[39m)\n\u001B[1;32m      4\u001B[0m plt\u001B[38;5;241m.\u001B[39mlegend(loc\u001B[38;5;241m=\u001B[39m\u001B[38;5;124m\"\u001B[39m\u001B[38;5;124mlower right\u001B[39m\u001B[38;5;124m\"\u001B[39m,fontsize\u001B[38;5;241m=\u001B[39m\u001B[38;5;241m16\u001B[39m)\n\u001B[1;32m      5\u001B[0m plt\u001B[38;5;241m.\u001B[39mtitle(\u001B[38;5;124m\"\u001B[39m\u001B[38;5;124mthis is my very first plot ever\u001B[39m\u001B[38;5;124m\"\u001B[39m)\n",
      "\u001B[0;31mNameError\u001B[0m: name 'y2' is not defined"
     ]
    },
    {
     "data": {
      "text/plain": "<Figure size 720x576 with 1 Axes>",
      "image/png": "[encoded data removed]"
     },
     "metadata": {
      "needs_background": "light"
     },
     "output_type": "display_data"
    }
   ],
   "source": [
    "fig=plt.figure(figsize=(10,8))\n",
    "plt.plot(x,y,label=\"y=2*x\")\n",
    "plt.plot(x,y2,label=\"y2=4*x\")\n",
    "plt.legend(loc=\"lower right\",fontsize=16)\n",
    "plt.title(\"this is my very first plot ever\")\n",
    "plt.xlabel(\"temperature\")\n",
    "plt.ylabel(\"sales\")"
   ]
  },
  {
   "cell_type": "code",
   "execution_count": null,
   "metadata": {
    "pycharm": {
     "name": "#%%\n"
    }
   },
   "outputs": [],
   "source": [
    "fig.savefig(\"my first plot.jpg\")"
   ]
  },
  {
   "cell_type": "code",
   "execution_count": 50,
   "metadata": {
    "pycharm": {
     "name": "#%%\n"
    }
   },
   "outputs": [
    {
     "name": "stderr",
     "output_type": "stream",
     "text": [
      "No artists with labels found to put in legend.  Note that artists whose label start with an underscore are ignored when legend() is called with no argument.\n"
     ]
    },
    {
     "data": {
      "text/plain": "Text(0, 0.5, 'y dimension')"
     },
     "execution_count": 50,
     "metadata": {},
     "output_type": "execute_result"
    },
    {
     "data": {
      "text/plain": "<Figure size 432x288 with 1 Axes>",
      "image/png": "[encoded data removed]"
     },
     "metadata": {
      "needs_background": "light"
     },
     "output_type": "display_data"
    }
   ],
   "source": [
    "plt.figure()\n",
    "plt.plot(x,y)\n",
    "plt.title(\"this is my very first plot ever, am very happy\")\n",
    "plt.legend()\n",
    "plt.xlabel(\"x dimension\")\n",
    "plt.ylabel(\"y dimension\")"
   ]
  },
  {
   "cell_type": "code",
   "execution_count": 51,
   "metadata": {
    "pycharm": {
     "name": "#%%\n"
    }
   },
   "outputs": [
    {
     "data": {
      "text/plain": "Text(0.5, 0.98, 'this the whole figure title')"
     },
     "execution_count": 51,
     "metadata": {},
     "output_type": "execute_result"
    },
    {
     "data": {
      "text/plain": "<Figure size 720x576 with 4 Axes>",
      "image/png": "[encoded data removed]"
     },
     "metadata": {
      "needs_background": "light"
     },
     "output_type": "display_data"
    }
   ],
   "source": [
    "## first axis\n",
    "fig=plt.figure(figsize=(10,8))\n",
    "\n",
    "plt.subplot(2,2,1)\n",
    "plt.plot(x,y)\n",
    "plt.xlabel(\"first plot x label\")\n",
    "\n",
    "#second axis\n",
    "plt.subplot(2,2,2)\n",
    "y2=x**4\n",
    "plt.plot(x,y2)\n",
    "plt.title(\"this is a title\")\n",
    "\n",
    "##. third subplot\n",
    "plt.subplot(2,2,3)\n",
    "y3=x**2\n",
    "plt.plot(x,y3)\n",
    "\n",
    "## fourth subplot\n",
    "plt.subplot(2,2,4)\n",
    "plt.plot(x,-x,color=\"#e65ead\")\n",
    "plt.xlabel(\"this is x for the fourth subplot\")\n",
    "\n",
    "plt.suptitle(\"this the whole figure title\")"
   ]
  },
  {
   "cell_type": "markdown",
   "metadata": {
    "id": "R9ZPUsgimfCQ",
    "pycharm": {
     "name": "#%% md\n"
    }
   },
   "source": [
    "We will create arrays for the Y axis related to values of x:\n",
    "- y = x*2\n",
    "- y = x\n",
    "- y = x/2\n",
    "- y = x*3"
   ]
  },
  {
   "cell_type": "code",
   "execution_count": 52,
   "metadata": {
    "executionInfo": {
     "elapsed": 282,
     "status": "ok",
     "timestamp": 1625127852711,
     "user": {
      "displayName": "Ignacio Soteras",
      "photoUrl": "",
      "userId": "02050793736257155229"
     },
     "user_tz": -120
    },
    "id": "n9BNuXbymfCQ",
    "pycharm": {
     "name": "#%%\n"
    }
   },
   "outputs": [],
   "source": [
    "y1 = x**2\n",
    "y2 = x\n",
    "y3 = x/2\n",
    "y4 = x*3"
   ]
  },
  {
   "cell_type": "markdown",
   "metadata": {
    "id": "4DcRzCqDmfCR",
    "pycharm": {
     "name": "#%% md\n"
    }
   },
   "source": [
    "Now we will create the plot. We will first create an easy plot and then we'll modify parametres.\n",
    "\n",
    "Let's use first the subplot() approach"
   ]
  },
  {
   "cell_type": "code",
   "execution_count": 53,
   "metadata": {
    "colab": {
     "base_uri": "https://localhost:8080/",
     "height": 520
    },
    "executionInfo": {
     "elapsed": 445,
     "status": "ok",
     "timestamp": 1625128145041,
     "user": {
      "displayName": "Ignacio Soteras",
      "photoUrl": "",
      "userId": "02050793736257155229"
     },
     "user_tz": -120
    },
    "id": "rixUe-DXmfCR",
    "outputId": "0914fe12-1bba-4826-99ea-eb62e67a13df",
    "pycharm": {
     "name": "#%%\n"
    }
   },
   "outputs": [
    {
     "data": {
      "text/plain": "<matplotlib.legend.Legend at 0x7fd0eb2c8130>"
     },
     "execution_count": 53,
     "metadata": {},
     "output_type": "execute_result"
    },
    {
     "data": {
      "text/plain": "<Figure size 720x576 with 1 Axes>",
      "image/png": "[encoded data removed]"
     },
     "metadata": {
      "needs_background": "light"
     },
     "output_type": "display_data"
    }
   ],
   "source": [
    "# create first figure and ax\n",
    "fig=plt.figure(figsize = (10,8)) # (12,10)\n",
    "\n",
    "# we add a title to the figure or the ax\n",
    "#ax.set_title('My first Matplotlib plot', fontsize=18)\n",
    "plt.subplot(1,1,1)\n",
    "plt.title('My first Matplotlib plot', fontsize=18)\n",
    "# we plot the different lines adding them to the axis\n",
    "plt.plot(x,y1, label='y = 2x')\n",
    "plt.plot(x,y2, c='red', label='y = x')\n",
    "plt.plot(x,y3, c='green', label='y = x/2')\n",
    "plt.plot(x,y4, c='orange', label='y = 3x')\n",
    "\n",
    "# we add the legend\n",
    "plt.legend()"
   ]
  },
  {
   "cell_type": "code",
   "execution_count": 54,
   "metadata": {
    "pycharm": {
     "name": "#%%\n"
    }
   },
   "outputs": [],
   "source": [
    "## to save figure \n",
    "fig.savefig(\"line_plot.jpg\")"
   ]
  },
  {
   "cell_type": "markdown",
   "metadata": {
    "id": "-dbMStVj-wRE",
    "pycharm": {
     "name": "#%% md\n"
    }
   },
   "source": [
    "Now let's use the subplot**s**() approach"
   ]
  },
  {
   "cell_type": "code",
   "execution_count": 55,
   "metadata": {
    "colab": {
     "base_uri": "https://localhost:8080/",
     "height": 628
    },
    "executionInfo": {
     "elapsed": 494,
     "status": "ok",
     "timestamp": 1625128286468,
     "user": {
      "displayName": "Ignacio Soteras",
      "photoUrl": "",
      "userId": "02050793736257155229"
     },
     "user_tz": -120
    },
    "id": "IMGbbhPi-0ms",
    "outputId": "7935e3fa-4a67-47d0-e9b0-42da44486e92",
    "pycharm": {
     "name": "#%%\n"
    }
   },
   "outputs": [
    {
     "data": {
      "text/plain": "<matplotlib.legend.Legend at 0x7fd0fb13ef40>"
     },
     "execution_count": 55,
     "metadata": {},
     "output_type": "execute_result"
    },
    {
     "data": {
      "text/plain": "<Figure size 864x720 with 4 Axes>",
      "image/png": "[encoded data removed]"
     },
     "metadata": {
      "needs_background": "light"
     },
     "output_type": "display_data"
    }
   ],
   "source": [
    "# create first figure and ax\n",
    "fig, ax = plt.subplots(2,2,figsize = (12,10))\n",
    "\n",
    "# we add a title to the figure or the ax\n",
    "ax[0,0].set_title('My first Matplotlib plot', fontsize=18)\n",
    "# we plot the different lines adding them to the axis\n",
    "ax[0,0].plot(x,y1, label='y = 2x')\n",
    "ax[0,1].plot(x,y2, c='red', label='y = x')\n",
    "ax[1,1].plot(x,y3, c='green', label='y = x/2')\n",
    "ax[1,0].plot(x,y4, c='orange', label='y = 3x')\n",
    "\n",
    "# we add the legend\n",
    "ax[0,0].legend()"
   ]
  },
  {
   "cell_type": "markdown",
   "metadata": {
    "id": "u6SZJ5ZjmfCR",
    "pycharm": {
     "name": "#%% md\n"
    }
   },
   "source": [
    "We will do now a figure with 3 axes in a single row  (3 subplots). First we define two curves.\n",
    "- y = x^2\n",
    "- y = 2^x"
   ]
  },
  {
   "cell_type": "code",
   "execution_count": 56,
   "metadata": {
    "executionInfo": {
     "elapsed": 290,
     "status": "ok",
     "timestamp": 1625128332299,
     "user": {
      "displayName": "Ignacio Soteras",
      "photoUrl": "",
      "userId": "02050793736257155229"
     },
     "user_tz": -120
    },
    "id": "QkiIykYimfCR",
    "pycharm": {
     "name": "#%%\n"
    }
   },
   "outputs": [],
   "source": [
    "y5 = x**2\n",
    "y6 = 2**x"
   ]
  },
  {
   "cell_type": "markdown",
   "metadata": {
    "id": "klRgf1NFmfCR",
    "pycharm": {
     "name": "#%% md\n"
    }
   },
   "source": [
    "Now we will create the figure and all the axes, and will plot the lines:"
   ]
  },
  {
   "cell_type": "code",
   "execution_count": 57,
   "metadata": {
    "colab": {
     "base_uri": "https://localhost:8080/",
     "height": 417
    },
    "executionInfo": {
     "elapsed": 811,
     "status": "ok",
     "timestamp": 1625128467882,
     "user": {
      "displayName": "Ignacio Soteras",
      "photoUrl": "",
      "userId": "02050793736257155229"
     },
     "user_tz": -120
    },
    "id": "q_qsTp__mfCS",
    "outputId": "43ec8ea3-b44c-4306-b38c-7a35a4af4253",
    "scrolled": false,
    "pycharm": {
     "name": "#%%\n"
    }
   },
   "outputs": [
    {
     "data": {
      "text/plain": "<Figure size 1440x432 with 3 Axes>",
      "image/png": "[encoded data removed]"
     },
     "metadata": {
      "needs_background": "light"
     },
     "output_type": "display_data"
    }
   ],
   "source": [
    "# create the figure and axes\n",
    "fig2,axes2 = plt.subplots(1,3,figsize = (20,6)) # Here the figsize controls the full canvas size, not the individual figure size\n",
    "\n",
    "# add an overall title for the figure\n",
    "fig2.suptitle('My second Matplotlib plot(s)', fontsize=18)\n",
    "\n",
    "# create first plot (left), adding a title\n",
    "axes2[0].plot(x,y1, c='blue', label='y = 2x')\n",
    "axes2[0].set_title('Linear plot', fontsize=15)\n",
    "\n",
    "# create second plot (centre), adding a title\n",
    "axes2[1].bar(x,y5, color='red', label='y = x^2')\n",
    "axes2[1].set_title('Quadratic plot', fontsize=15)\n",
    "\n",
    "# create third plot (right), adding a title\n",
    "axes2[2].scatter(x,y6, c='green', label='y = 2^x')\n",
    "axes2[2].set_title('Exponential plot', fontsize=15)\n",
    "\n",
    "# set a legend\n",
    "for ax in axes2:\n",
    "    ax.legend(loc = 'upper left')"
   ]
  },
  {
   "cell_type": "markdown",
   "metadata": {
    "id": "J5i2Mw3XmfCS",
    "pycharm": {
     "name": "#%% md\n"
    }
   },
   "source": [
    "## Using Matplotlib and Seaborn with Dataframes"
   ]
  },
  {
   "cell_type": "markdown",
   "metadata": {
    "id": "h0u0K9wGmfCS",
    "pycharm": {
     "name": "#%% md\n"
    }
   },
   "source": [
    "First we will import a dataset by executing the cells below"
   ]
  },
  {
   "cell_type": "code",
   "execution_count": 58,
   "metadata": {
    "executionInfo": {
     "elapsed": 716,
     "status": "ok",
     "timestamp": 1625128617233,
     "user": {
      "displayName": "Ignacio Soteras",
      "photoUrl": "",
      "userId": "02050793736257155229"
     },
     "user_tz": -120
    },
    "id": "qUJxNynSmfCS",
    "pycharm": {
     "name": "#%%\n"
    }
   },
   "outputs": [],
   "source": [
    "titanic = sns.load_dataset('titanic')"
   ]
  },
  {
   "cell_type": "code",
   "execution_count": 59,
   "metadata": {
    "colab": {
     "base_uri": "https://localhost:8080/",
     "height": 422
    },
    "executionInfo": {
     "elapsed": 298,
     "status": "ok",
     "timestamp": 1625128618665,
     "user": {
      "displayName": "Ignacio Soteras",
      "photoUrl": "",
      "userId": "02050793736257155229"
     },
     "user_tz": -120
    },
    "id": "y4y0x4MmmfCS",
    "outputId": "a5c9d2f6-9be0-4809-cfa1-777d0b6478b4",
    "pycharm": {
     "name": "#%%\n"
    }
   },
   "outputs": [
    {
     "data": {
      "text/plain": "     survived  pclass     sex   age  sibsp  parch     fare embarked   class  \\\n0           0       3    male  22.0      1      0   7.2500        S   Third   \n1           1       1  female  38.0      1      0  71.2833        C   First   \n2           1       3  female  26.0      0      0   7.9250        S   Third   \n3           1       1  female  35.0      1      0  53.1000        S   First   \n4           0       3    male  35.0      0      0   8.0500        S   Third   \n..        ...     ...     ...   ...    ...    ...      ...      ...     ...   \n886         0       2    male  27.0      0      0  13.0000        S  Second   \n887         1       1  female  19.0      0      0  30.0000        S   First   \n888         0       3  female   NaN      1      2  23.4500        S   Third   \n889         1       1    male  26.0      0      0  30.0000        C   First   \n890         0       3    male  32.0      0      0   7.7500        Q   Third   \n\n       who  adult_male deck  embark_town alive  alone  \n0      man        True  NaN  Southampton    no  False  \n1    woman       False    C    Cherbourg   yes  False  \n2    woman       False  NaN  Southampton   yes   True  \n3    woman       False    C  Southampton   yes  False  \n4      man        True  NaN  Southampton    no   True  \n..     ...         ...  ...          ...   ...    ...  \n886    man        True  NaN  Southampton    no   True  \n887  woman       False    B  Southampton   yes   True  \n888  woman       False  NaN  Southampton    no  False  \n889    man        True    C    Cherbourg   yes   True  \n890    man        True  NaN   Queenstown    no   True  \n\n[891 rows x 15 columns]",
      "text/html": "<div>\n<style scoped>\n    .dataframe tbody tr th:only-of-type {\n        vertical-align: middle;\n    }\n\n    .dataframe tbody tr th {\n        vertical-align: top;\n    }\n\n    .dataframe thead th {\n        text-align: right;\n    }\n</style>\n<table border=\"1\" class=\"dataframe\">\n  <thead>\n    <tr style=\"text-align: right;\">\n      <th></th>\n      <th>survived</th>\n      <th>pclass</th>\n      <th>sex</th>\n      <th>age</th>\n      <th>sibsp</th>\n      <th>parch</th>\n      <th>fare</th>\n      <th>embarked</th>\n      <th>class</th>\n      <th>who</th>\n      <th>adult_male</th>\n      <th>deck</th>\n      <th>embark_town</th>\n      <th>alive</th>\n      <th>alone</th>\n    </tr>\n  </thead>\n  <tbody>\n    <tr>\n      <th>0</th>\n      <td>0</td>\n      <td>3</td>\n      <td>male</td>\n      <td>22.0</td>\n      <td>1</td>\n      <td>0</td>\n      <td>7.2500</td>\n      <td>S</td>\n      <td>Third</td>\n      <td>man</td>\n      <td>True</td>\n      <td>NaN</td>\n      <td>Southampton</td>\n      <td>no</td>\n      <td>False</td>\n    </tr>\n    <tr>\n      <th>1</th>\n      <td>1</td>\n      <td>1</td>\n      <td>female</td>\n      <td>38.0</td>\n      <td>1</td>\n      <td>0</td>\n      <td>71.2833</td>\n      <td>C</td>\n      <td>First</td>\n      <td>woman</td>\n      <td>False</td>\n      <td>C</td>\n      <td>Cherbourg</td>\n      <td>yes</td>\n      <td>False</td>\n    </tr>\n    <tr>\n      <th>2</th>\n      <td>1</td>\n      <td>3</td>\n      <td>female</td>\n      <td>26.0</td>\n      <td>0</td>\n      <td>0</td>\n      <td>7.9250</td>\n      <td>S</td>\n      <td>Third</td>\n      <td>woman</td>\n      <td>False</td>\n      <td>NaN</td>\n      <td>Southampton</td>\n      <td>yes</td>\n      <td>True</td>\n    </tr>\n    <tr>\n      <th>3</th>\n      <td>1</td>\n      <td>1</td>\n      <td>female</td>\n      <td>35.0</td>\n      <td>1</td>\n      <td>0</td>\n      <td>53.1000</td>\n      <td>S</td>\n      <td>First</td>\n      <td>woman</td>\n      <td>False</td>\n      <td>C</td>\n      <td>Southampton</td>\n      <td>yes</td>\n      <td>False</td>\n    </tr>\n    <tr>\n      <th>4</th>\n      <td>0</td>\n      <td>3</td>\n      <td>male</td>\n      <td>35.0</td>\n      <td>0</td>\n      <td>0</td>\n      <td>8.0500</td>\n      <td>S</td>\n      <td>Third</td>\n      <td>man</td>\n      <td>True</td>\n      <td>NaN</td>\n      <td>Southampton</td>\n      <td>no</td>\n      <td>True</td>\n    </tr>\n    <tr>\n      <th>...</th>\n      <td>...</td>\n      <td>...</td>\n      <td>...</td>\n      <td>...</td>\n      <td>...</td>\n      <td>...</td>\n      <td>...</td>\n      <td>...</td>\n      <td>...</td>\n      <td>...</td>\n      <td>...</td>\n      <td>...</td>\n      <td>...</td>\n      <td>...</td>\n      <td>...</td>\n    </tr>\n    <tr>\n      <th>886</th>\n      <td>0</td>\n      <td>2</td>\n      <td>male</td>\n      <td>27.0</td>\n      <td>0</td>\n      <td>0</td>\n      <td>13.0000</td>\n      <td>S</td>\n      <td>Second</td>\n      <td>man</td>\n      <td>True</td>\n      <td>NaN</td>\n      <td>Southampton</td>\n      <td>no</td>\n      <td>True</td>\n    </tr>\n    <tr>\n      <th>887</th>\n      <td>1</td>\n      <td>1</td>\n      <td>female</td>\n      <td>19.0</td>\n      <td>0</td>\n      <td>0</td>\n      <td>30.0000</td>\n      <td>S</td>\n      <td>First</td>\n      <td>woman</td>\n      <td>False</td>\n      <td>B</td>\n      <td>Southampton</td>\n      <td>yes</td>\n      <td>True</td>\n    </tr>\n    <tr>\n      <th>888</th>\n      <td>0</td>\n      <td>3</td>\n      <td>female</td>\n      <td>NaN</td>\n      <td>1</td>\n      <td>2</td>\n      <td>23.4500</td>\n      <td>S</td>\n      <td>Third</td>\n      <td>woman</td>\n      <td>False</td>\n      <td>NaN</td>\n      <td>Southampton</td>\n      <td>no</td>\n      <td>False</td>\n    </tr>\n    <tr>\n      <th>889</th>\n      <td>1</td>\n      <td>1</td>\n      <td>male</td>\n      <td>26.0</td>\n      <td>0</td>\n      <td>0</td>\n      <td>30.0000</td>\n      <td>C</td>\n      <td>First</td>\n      <td>man</td>\n      <td>True</td>\n      <td>C</td>\n      <td>Cherbourg</td>\n      <td>yes</td>\n      <td>True</td>\n    </tr>\n    <tr>\n      <th>890</th>\n      <td>0</td>\n      <td>3</td>\n      <td>male</td>\n      <td>32.0</td>\n      <td>0</td>\n      <td>0</td>\n      <td>7.7500</td>\n      <td>Q</td>\n      <td>Third</td>\n      <td>man</td>\n      <td>True</td>\n      <td>NaN</td>\n      <td>Queenstown</td>\n      <td>no</td>\n      <td>True</td>\n    </tr>\n  </tbody>\n</table>\n<p>891 rows × 15 columns</p>\n</div>"
     },
     "execution_count": 59,
     "metadata": {},
     "output_type": "execute_result"
    }
   ],
   "source": [
    "titanic"
   ]
  },
  {
   "cell_type": "markdown",
   "metadata": {
    "id": "dB5Kh-NLmfCT",
    "pycharm": {
     "name": "#%% md\n"
    }
   },
   "source": [
    "Count how many passengers survived and how many didn't. Use only one method. Store the result in a variable."
   ]
  },
  {
   "cell_type": "code",
   "execution_count": 60,
   "metadata": {
    "executionInfo": {
     "elapsed": 334,
     "status": "ok",
     "timestamp": 1625128666892,
     "user": {
      "displayName": "Ignacio Soteras",
      "photoUrl": "",
      "userId": "02050793736257155229"
     },
     "user_tz": -120
    },
    "id": "2TZo125KmfCT",
    "pycharm": {
     "name": "#%%\n"
    }
   },
   "outputs": [],
   "source": [
    "survival = titanic['survived'].value_counts()"
   ]
  },
  {
   "cell_type": "code",
   "execution_count": 61,
   "metadata": {
    "colab": {
     "base_uri": "https://localhost:8080/"
    },
    "executionInfo": {
     "elapsed": 296,
     "status": "ok",
     "timestamp": 1625128670798,
     "user": {
      "displayName": "Ignacio Soteras",
      "photoUrl": "",
      "userId": "02050793736257155229"
     },
     "user_tz": -120
    },
    "id": "V8GvQmGQmfCT",
    "outputId": "9106c02a-605f-4e52-b754-85f06ceca7c9",
    "pycharm": {
     "name": "#%%\n"
    }
   },
   "outputs": [
    {
     "data": {
      "text/plain": "0    549\n1    342\nName: survived, dtype: int64"
     },
     "execution_count": 61,
     "metadata": {},
     "output_type": "execute_result"
    }
   ],
   "source": [
    "survival"
   ]
  },
  {
   "cell_type": "markdown",
   "metadata": {
    "id": "h3EgTgPbmfCT",
    "pycharm": {
     "name": "#%% md\n"
    }
   },
   "source": [
    "We will create now a bar chart. The procedure is the same as the first plot we created."
   ]
  },
  {
   "cell_type": "code",
   "execution_count": 62,
   "metadata": {
    "colab": {
     "base_uri": "https://localhost:8080/",
     "height": 407
    },
    "executionInfo": {
     "elapsed": 288,
     "status": "ok",
     "timestamp": 1625128804270,
     "user": {
      "displayName": "Ignacio Soteras",
      "photoUrl": "",
      "userId": "02050793736257155229"
     },
     "user_tz": -120
    },
    "id": "3k0FEG2SmfCT",
    "outputId": "dbc3400a-dfe5-4fa4-c172-d37b3327f7f1",
    "pycharm": {
     "name": "#%%\n"
    }
   },
   "outputs": [
    {
     "data": {
      "text/plain": "Text(0, 0.5, '#suvuvals')"
     },
     "execution_count": 62,
     "metadata": {},
     "output_type": "execute_result"
    },
    {
     "data": {
      "text/plain": "<Figure size 432x288 with 1 Axes>",
      "image/png": "[encoded data removed]"
     },
     "metadata": {
      "needs_background": "light"
     },
     "output_type": "display_data"
    }
   ],
   "source": [
    "# create figure and axes\n",
    "plt.bar(survival.index, survival, color=('red','green'))\n",
    "# set title\n",
    "plt.title('Titanic Survival Rate', fontweight='bold')\n",
    "plt.xticks(ticks=[0,1],labels=[\"not survived\",\"suvived\"])\n",
    "plt.ylabel(\"#suvuvals\")"
   ]
  },
  {
   "cell_type": "markdown",
   "metadata": {
    "id": "SoUdpx9tmfCT",
    "pycharm": {
     "name": "#%% md\n"
    }
   },
   "source": [
    "Now let's create a figure with two bar charts (axes), one above the other: \n",
    "- One chart displaying the number of men, women, and children.\n",
    "- Another displaying the number of passengers by *class* (first, second and third class).\n",
    "\n",
    "Alert: do not name a variable as *class* because this name is already being used by Python (like *list*, *dict*, etc.)"
   ]
  },
  {
   "cell_type": "code",
   "execution_count": 63,
   "metadata": {
    "colab": {
     "base_uri": "https://localhost:8080/"
    },
    "executionInfo": {
     "elapsed": 300,
     "status": "ok",
     "timestamp": 1625128886072,
     "user": {
      "displayName": "Ignacio Soteras",
      "photoUrl": "",
      "userId": "02050793736257155229"
     },
     "user_tz": -120
    },
    "id": "5LGWGMssmfCU",
    "outputId": "a2709a09-9185-4a6d-ddf6-f1283d1213ef",
    "pycharm": {
     "name": "#%%\n"
    }
   },
   "outputs": [
    {
     "data": {
      "text/plain": "man      537\nwoman    271\nchild     83\nName: who, dtype: int64"
     },
     "execution_count": 63,
     "metadata": {},
     "output_type": "execute_result"
    }
   ],
   "source": [
    "who = titanic['who'].value_counts()\n",
    "who"
   ]
  },
  {
   "cell_type": "code",
   "execution_count": 64,
   "metadata": {
    "pycharm": {
     "name": "#%%\n"
    }
   },
   "outputs": [
    {
     "data": {
      "text/plain": "<BarContainer object of 3 artists>"
     },
     "execution_count": 64,
     "metadata": {},
     "output_type": "execute_result"
    },
    {
     "data": {
      "text/plain": "<Figure size 432x432 with 1 Axes>",
      "image/png": "[encoded data removed]"
     },
     "metadata": {
      "needs_background": "light"
     },
     "output_type": "display_data"
    }
   ],
   "source": [
    "fig3, ax3 = plt.subplots(figsize = (6,6))\n",
    "ax3.bar(who.index,who,color=(\"red\",\"green\",\"blue\"))"
   ]
  },
  {
   "cell_type": "code",
   "execution_count": 65,
   "metadata": {
    "colab": {
     "base_uri": "https://localhost:8080/"
    },
    "executionInfo": {
     "elapsed": 316,
     "status": "ok",
     "timestamp": 1625128915918,
     "user": {
      "displayName": "Ignacio Soteras",
      "photoUrl": "",
      "userId": "02050793736257155229"
     },
     "user_tz": -120
    },
    "id": "ove8-t_UmfCU",
    "outputId": "68195bc3-10a8-459b-be96-ecd907079c8e",
    "pycharm": {
     "name": "#%%\n"
    }
   },
   "outputs": [
    {
     "data": {
      "text/plain": "First     216\nSecond    184\nThird     491\nName: class, dtype: int64"
     },
     "execution_count": 65,
     "metadata": {},
     "output_type": "execute_result"
    }
   ],
   "source": [
    "classes = titanic['class'].value_counts().sort_index()\n",
    "classes"
   ]
  },
  {
   "cell_type": "code",
   "execution_count": 66,
   "metadata": {
    "pycharm": {
     "name": "#%%\n"
    }
   },
   "outputs": [
    {
     "data": {
      "text/plain": "<Figure size 432x288 with 1 Axes>",
      "image/png": "[encoded data removed]"
     },
     "metadata": {
      "needs_background": "light"
     },
     "output_type": "display_data"
    }
   ],
   "source": [
    "ax = sns.countplot(x=\"class\", data=titanic)"
   ]
  },
  {
   "cell_type": "code",
   "execution_count": 67,
   "metadata": {
    "colab": {
     "base_uri": "https://localhost:8080/",
     "height": 717
    },
    "executionInfo": {
     "elapsed": 323,
     "status": "ok",
     "timestamp": 1625129043263,
     "user": {
      "displayName": "Ignacio Soteras",
      "photoUrl": "",
      "userId": "02050793736257155229"
     },
     "user_tz": -120
    },
    "id": "7ovrs3phmfCU",
    "outputId": "3a94d623-76fe-4e0e-eb14-d46743019314",
    "scrolled": false,
    "pycharm": {
     "name": "#%%\n"
    }
   },
   "outputs": [
    {
     "data": {
      "text/plain": "<BarContainer object of 3 artists>"
     },
     "execution_count": 67,
     "metadata": {},
     "output_type": "execute_result"
    },
    {
     "data": {
      "text/plain": "<Figure size 648x360 with 2 Axes>",
      "image/png": "[encoded data removed]"
     },
     "metadata": {
      "needs_background": "light"
     },
     "output_type": "display_data"
    }
   ],
   "source": [
    "# create figure and axes\n",
    "fig3, axes3 = plt.subplots(1,2,figsize = (9,5))\n",
    "\n",
    "# plot the bar chart\n",
    "axes3[0].bar(who.index, who, color=('red','green', 'blue'))\n",
    "axes3[1].bar(classes.index, classes, color=('red','green', 'blue'))"
   ]
  },
  {
   "cell_type": "markdown",
   "metadata": {
    "id": "o6jDHvSbmfCU",
    "pycharm": {
     "name": "#%% md\n"
    }
   },
   "source": [
    "### Seaborn (more complex graphs)"
   ]
  },
  {
   "cell_type": "markdown",
   "metadata": {
    "id": "9Nd7lYComfCU",
    "pycharm": {
     "name": "#%% md\n"
    }
   },
   "source": [
    "We want to know if the class of the passenger's ticket affected their chances of survival. We will introduce Seaborn now as it allow us to create more complex graphs relatively easy.\n",
    "\n",
    "First, let's find and create a dataframe with the survival ratings by *class*."
   ]
  },
  {
   "cell_type": "code",
   "execution_count": 68,
   "metadata": {
    "colab": {
     "base_uri": "https://localhost:8080/",
     "height": 236
    },
    "executionInfo": {
     "elapsed": 259,
     "status": "ok",
     "timestamp": 1625129138291,
     "user": {
      "displayName": "Ignacio Soteras",
      "photoUrl": "",
      "userId": "02050793736257155229"
     },
     "user_tz": -120
    },
    "id": "nV3xywvAmfCV",
    "outputId": "5a81dea1-1c99-4d33-999f-463f30261576",
    "pycharm": {
     "name": "#%%\n"
    }
   },
   "outputs": [
    {
     "data": {
      "text/plain": "class   alive\nFirst   no        80\n        yes      136\nSecond  no        97\n        yes       87\nThird   no       372\n        yes      119\nName: survived, dtype: int64"
     },
     "execution_count": 68,
     "metadata": {},
     "output_type": "execute_result"
    }
   ],
   "source": [
    "class_survival = titanic.groupby(['class', 'alive'])['survived'].count()\n",
    "class_survival"
   ]
  },
  {
   "cell_type": "markdown",
   "metadata": {
    "id": "lBhHtgP_mfCV",
    "pycharm": {
     "name": "#%% md\n"
    }
   },
   "source": [
    "We now will create the bar chart with Seaborn. First we set the color palette, which means that a preset palette of colors will be used in the upcoming graphs. You can find information of Seaborn palettes in the [Official Seaborn documentation](https://seaborn.pydata.org/tutorial/color_palettes.html) or in [articles](https://medium.com/@morganjonesartist/color-guide-to-seaborn-palettes-da849406d44f)."
   ]
  },
  {
   "cell_type": "code",
   "execution_count": null,
   "metadata": {
    "executionInfo": {
     "elapsed": 306,
     "status": "ok",
     "timestamp": 1625129337308,
     "user": {
      "displayName": "Ignacio Soteras",
      "photoUrl": "",
      "userId": "02050793736257155229"
     },
     "user_tz": -120
    },
    "id": "gF7nbUTGmfCV",
    "pycharm": {
     "name": "#%%\n"
    }
   },
   "outputs": [],
   "source": [
    "sns.set_palette('RdYlGn')\n",
    "palette_alive = {\"yes\": \"C5\", \"no\": \"C0\"}"
   ]
  },
  {
   "cell_type": "markdown",
   "metadata": {
    "id": "wtc6eagfmfCV",
    "pycharm": {
     "name": "#%% md\n"
    }
   },
   "source": [
    "And now we create the bar chart. In Seaborn we can use now the additional parameter 'hue' to create plots."
   ]
  },
  {
   "cell_type": "code",
   "execution_count": null,
   "metadata": {
    "colab": {
     "base_uri": "https://localhost:8080/",
     "height": 539
    },
    "executionInfo": {
     "elapsed": 457,
     "status": "ok",
     "timestamp": 1625129672063,
     "user": {
      "displayName": "Ignacio Soteras",
      "photoUrl": "",
      "userId": "02050793736257155229"
     },
     "user_tz": -120
    },
    "id": "KYHpKNYzmfCW",
    "outputId": "69f91f01-4473-402b-d205-e6accf93b9ef",
    "pycharm": {
     "name": "#%%\n"
    }
   },
   "outputs": [],
   "source": [
    "plt.figure(figsize=(20,15))\n",
    "plt.subplot(2,2,1)\n",
    "plt.title('Titanic Survival Rate by class', size='25', fontweight='bold')\n",
    "\n",
    "sns.barplot(x = class_survival['class'],y = class_survival['survived'], hue = class_survival['alive'], palette=palette_alive)"
   ]
  },
  {
   "cell_type": "markdown",
   "metadata": {
    "id": "dhzSP506mfCW",
    "pycharm": {
     "name": "#%% md\n"
    }
   },
   "source": [
    "Let's now create another figure with **two** axes in a row. The left ax will plot the same data as the one above, but *only with male passengers*, whereas the right ax will plot the *female passengers*."
   ]
  },
  {
   "cell_type": "code",
   "execution_count": null,
   "metadata": {
    "executionInfo": {
     "elapsed": 297,
     "status": "ok",
     "timestamp": 1625129857055,
     "user": {
      "displayName": "Ignacio Soteras",
      "photoUrl": "",
      "userId": "02050793736257155229"
     },
     "user_tz": -120
    },
    "id": "9a_-9TgAmfCW",
    "pycharm": {
     "name": "#%%\n"
    }
   },
   "outputs": [],
   "source": [
    "gender_class = titanic.groupby(['sex', 'class', 'alive'])['alive'].count().rename('count').reset_index()\n",
    "gender_class_males = gender_class[gender_class['sex']=='male']\n",
    "gender_class_females = gender_class[gender_class['sex']=='female']"
   ]
  },
  {
   "cell_type": "code",
   "execution_count": null,
   "metadata": {
    "pycharm": {
     "name": "#%%\n"
    }
   },
   "outputs": [],
   "source": [
    "gender_class"
   ]
  },
  {
   "cell_type": "code",
   "execution_count": null,
   "metadata": {
    "colab": {
     "base_uri": "https://localhost:8080/",
     "height": 421
    },
    "executionInfo": {
     "elapsed": 1090,
     "status": "ok",
     "timestamp": 1625130312344,
     "user": {
      "displayName": "Ignacio Soteras",
      "photoUrl": "",
      "userId": "02050793736257155229"
     },
     "user_tz": -120
    },
    "id": "lWGNB-sbmfCW",
    "outputId": "b4e0a660-1664-4cb7-bce4-bfad70a1ab34",
    "pycharm": {
     "name": "#%%\n"
    }
   },
   "outputs": [],
   "source": [
    "fig5, axes5 = plt.subplots(1,2,figsize=(16,6))\n",
    "\n",
    "#sns.barplot(x=gender_class_males['class'], y=gender_class_males['count'], hue = 'alive',  ax = axes5[0], palette=palette_alive)\n",
    "sns.barplot(x='class', y='count', hue = 'alive', data = gender_class_females, ax = axes5[0], palette=palette_alive)\n",
    "axes5[0].set_title('Female')\n",
    "sns.barplot(x='class', y='count', hue = 'alive', data = gender_class_males, ax = axes5[1], palette=palette_alive)\n",
    "axes5[1].set_title('Male')"
   ]
  },
  {
   "cell_type": "markdown",
   "metadata": {
    "id": "Kc8X7qPnmfCW",
    "pycharm": {
     "name": "#%% md\n"
    }
   },
   "source": [
    "We will now ressemble the same two-axes figure with only one line (Seaborn allow us to do that) creating what it's called a *Facetgrid* object. A FacetGrid object can be defined as a complex figure in which each chart has been *filtered* according to some data column.\n",
    "\n",
    "Facetgrids can be created using several seaborn functions, but we will use one called *catplot* (whose documentation can be found [here](https://seaborn.pydata.org/generated/seaborn.catplot.html)."
   ]
  },
  {
   "cell_type": "code",
   "execution_count": null,
   "metadata": {
    "colab": {
     "base_uri": "https://localhost:8080/",
     "height": 383
    },
    "executionInfo": {
     "elapsed": 977,
     "status": "ok",
     "timestamp": 1625130229238,
     "user": {
      "displayName": "Ignacio Soteras",
      "photoUrl": "",
      "userId": "02050793736257155229"
     },
     "user_tz": -120
    },
    "id": "GaBj9dtRmfCX",
    "outputId": "309b75ac-b28c-4c96-8dd2-9ac49257f3a7",
    "scrolled": false,
    "pycharm": {
     "name": "#%%\n"
    }
   },
   "outputs": [],
   "source": [
    "fg6 = sns.catplot(x='class', y = 'count', hue = 'alive', data = gender_class, col='sex', kind='bar',palette=palette_alive)"
   ]
  },
  {
   "cell_type": "markdown",
   "metadata": {
    "id": "PLzgoHhpmfCX",
    "pycharm": {
     "name": "#%% md\n"
    }
   },
   "source": [
    "As a final challenge, we will create another FacetGrid with catplot but instead of bars we will plot **boxes** (a box plot is very useful if you want to see at a first glance the relevant statistics of a distribution). \n",
    "\n",
    "We want to plot the following:\n",
    "\n",
    "- In each ax we will plot the distribution of *ages* according to their *sex* (two boxplots per subplot).\n",
    "- Each FacetGrid column will define a filter according to the passengers' *class*. (The FacetGrid will then have three subplots).\n",
    "\n",
    "*Hint*: You can use the *titanic* DataFrame without any further modification.\n",
    "\n",
    "**Bonus track**: If you feel confortable you can also add a *row* conditition that will filter the plots according to the *alone* column (whether the passenger embarked with any relatives). In this case the FacetGrid will become a 2x3 matrix of subplots."
   ]
  },
  {
   "cell_type": "code",
   "execution_count": null,
   "metadata": {
    "colab": {
     "base_uri": "https://localhost:8080/",
     "height": 794
    },
    "executionInfo": {
     "elapsed": 1710,
     "status": "ok",
     "timestamp": 1625130491898,
     "user": {
      "displayName": "Ignacio Soteras",
      "photoUrl": "",
      "userId": "02050793736257155229"
     },
     "user_tz": -120
    },
    "id": "zAkuNwFvmfCX",
    "outputId": "ad102f29-05c9-4933-8e44-849842c3d193",
    "scrolled": false,
    "pycharm": {
     "name": "#%%\n"
    }
   },
   "outputs": [],
   "source": [
    "fg7 = sns.catplot(x='sex', y = 'age', data = titanic, col='class', row='alone', kind=\"box\", margin_titles = True)\n",
    "fg7.fig.suptitle('Age distribution by class and sex', size='20', fontweight='bold', y = 1.05)\n",
    "fg7.set_xticklabels(['Male', 'Female'])\n",
    "fg7.set_ylabels('Age')\n",
    "fg7.set_xlabels('')"
   ]
  },
  {
   "cell_type": "code",
   "execution_count": null,
   "metadata": {
    "pycharm": {
     "name": "#%%\n"
    }
   },
   "outputs": [],
   "source": [
    "sns.boxplot(x=\"age\",data=titanic)"
   ]
  },
  {
   "cell_type": "code",
   "execution_count": null,
   "metadata": {
    "pycharm": {
     "name": "#%%\n"
    }
   },
   "outputs": [],
   "source": [
    "sns.distplot(titanic.age)"
   ]
  },
  {
   "cell_type": "code",
   "execution_count": null,
   "metadata": {
    "pycharm": {
     "name": "#%%\n"
    }
   },
   "outputs": [],
   "source": [
    "sns.displot(titanic.age)"
   ]
  },
  {
   "cell_type": "code",
   "execution_count": null,
   "metadata": {
    "pycharm": {
     "name": "#%%\n"
    }
   },
   "outputs": [],
   "source": [
    "sns.scatterplot(x=titanic.age,y=titanic.fare)"
   ]
  },
  {
   "cell_type": "code",
   "execution_count": null,
   "metadata": {
    "pycharm": {
     "name": "#%%\n"
    }
   },
   "outputs": [],
   "source": [
    "fig=plt.figure(figsize=(8,5))\n",
    "sns.heatmap(titanic.corr(),annot=True)"
   ]
  },
  {
   "cell_type": "markdown",
   "metadata": {
    "pycharm": {
     "name": "#%% md\n"
    }
   },
   "source": [
    "# Pandas easy visual fiunctions"
   ]
  },
  {
   "cell_type": "code",
   "execution_count": null,
   "metadata": {
    "pycharm": {
     "name": "#%%\n"
    }
   },
   "outputs": [],
   "source": [
    "titanic.hist(figsize=(10,15))"
   ]
  },
  {
   "cell_type": "code",
   "execution_count": null,
   "metadata": {
    "pycharm": {
     "name": "#%%\n"
    }
   },
   "outputs": [],
   "source": []
  }
 ],
 "metadata": {
  "colab": {
   "name": "Codealong_Matplotlib_Seaborn-Complete.ipynb",
   "provenance": []
  },
  "kernelspec": {
   "display_name": "Python 3 (ipykernel)",
   "language": "python",
   "name": "python3"
  },
  "language_info": {
   "codemirror_mode": {
    "name": "ipython",
    "version": 3
   },
   "file_extension": ".py",
   "mimetype": "text/x-python",
   "name": "python",
   "nbconvert_exporter": "python",
   "pygments_lexer": "ipython3",
   "version": "3.9.12"
  },
  "toc": {
   "base_numbering": 1,
   "nav_menu": {},
   "number_sections": true,
   "sideBar": true,
   "skip_h1_title": false,
   "title_cell": "Table of Contents",
   "title_sidebar": "Contents",
   "toc_cell": false,
   "toc_position": {},
   "toc_section_display": true,
   "toc_window_display": false
  }
 },
 "nbformat": 4,
 "nbformat_minor": 1
}